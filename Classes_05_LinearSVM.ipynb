{
  "cells": [
    {
      "cell_type": "markdown",
      "metadata": {
        "id": "view-in-github",
        "colab_type": "text"
      },
      "source": [
        "<a href=\"https://colab.research.google.com/github/wikit4/bts-face-recognition/blob/main/Classes_05_LinearSVM.ipynb\" target=\"_parent\"><img src=\"https://colab.research.google.com/assets/colab-badge.svg\" alt=\"Open In Colab\"/></a>"
      ]
    },
    {
      "cell_type": "markdown",
      "metadata": {
        "id": "0UM_-fA16Wx0"
      },
      "source": [
        "# Classification: Support Vector Machine with linear kernel. Hard and soft margins"
      ]
    },
    {
      "cell_type": "markdown",
      "metadata": {
        "id": "8Q6dBZxA7WVj"
      },
      "source": [
        "Imports"
      ]
    },
    {
      "cell_type": "code",
      "execution_count": null,
      "metadata": {
        "id": "VEyKd5686Pt8"
      },
      "outputs": [],
      "source": [
        "import matplotlib.pyplot as plt\n",
        "import numpy as np\n",
        "from sklearn.model_selection import train_test_split\n",
        "from sklearn.metrics import accuracy_score, confusion_matrix, classification_report, precision_score, recall_score, balanced_accuracy_score\n",
        "from sklearn.inspection import DecisionBoundaryDisplay\n",
        "import pandas as pd\n",
        "import seaborn as sns\n",
        "import io\n",
        "from sklearn import set_config\n",
        "from sklearn.svm import SVC\n",
        "from sklearn.datasets import make_blobs\n",
        "\n",
        "sns.set_theme(style=\"whitegrid\", palette=\"colorblind\")\n",
        "plt.rcParams[\"figure.figsize\"] = (10,7)"
      ]
    },
    {
      "cell_type": "code",
      "execution_count": null,
      "metadata": {
        "id": "I4Hsi48QOGpX"
      },
      "outputs": [],
      "source": [
        "# constans\n",
        "test_size=0.2\n",
        "random_state=42"
      ]
    },
    {
      "cell_type": "code",
      "source": [
        "def compute_score_classification(y_true, y_pred):\n",
        "  '''\n",
        "  Helper function for printing scores.\n",
        "\n",
        "  Parameters:\n",
        "  y_true: ndarray of y values from original dataset.\n",
        "  y_pred: ndarray of y values predicted with given model.\n",
        "\n",
        "  Return:\n",
        "  dictionary object that consists of accuracy and classification report.\n",
        "\n",
        "  '''\n",
        "  return {\n",
        "        \"Accuracy\": f\"{accuracy_score(y_true, y_pred):.3f}\",\n",
        "        \"Classification Report\": classification_report(y_true, y_pred),\n",
        "}"
      ],
      "metadata": {
        "id": "weAtuf398bDM"
      },
      "execution_count": null,
      "outputs": []
    },
    {
      "cell_type": "markdown",
      "source": [
        "## Exercise 1\n",
        "\n",
        "1. Use the toy, generated data below and create the simplest linear SVM classification model. Use [`SVC`](https://scikit-learn.org/stable/modules/generated/sklearn.svm.SVC.html) scikit-learn class with the `kernel=\"linear\"` parameter."
      ],
      "metadata": {
        "id": "4K7PciH5B-Ox"
      }
    },
    {
      "cell_type": "code",
      "source": [
        "# we create 40 separable points\n",
        "X, y = make_blobs(n_samples=100, centers=2, random_state=6)\n",
        "\n",
        "# plot our data\n",
        "plt.scatter(\n",
        "    X[:, 0],\n",
        "    X[:, 1],\n",
        "    c=y,\n",
        "    cmap=plt.cm.Paired\n",
        ")\n",
        "plt.show()"
      ],
      "metadata": {
        "id": "082CM5g9B7fK"
      },
      "execution_count": null,
      "outputs": []
    },
    {
      "cell_type": "markdown",
      "source": [
        "2. Create classification model"
      ],
      "metadata": {
        "id": "ZK5pvOimDgLA"
      }
    },
    {
      "cell_type": "code",
      "source": [
        "X_train, X_test, y_train, y_test = train_test_split(X, y, test_size=0.2, random_state=5)\n",
        "\n",
        "# create object of linear SVC estimator\n",
        "# your code here"
      ],
      "metadata": {
        "id": "5LjSkXH4B7jT"
      },
      "execution_count": null,
      "outputs": []
    },
    {
      "cell_type": "markdown",
      "source": [
        "3. Plot decision boundaries.\n",
        "\n",
        "Plot Decision Boundaries\n",
        "The code below uses the [`DecisionBoundaryDisplay`](https://scikit-learn.org/stable/modules/generated/sklearn.inspection.DecisionBoundaryDisplay.html#sklearn.inspection.DecisionBoundaryDisplay) class to visualize the SVM decision boundaries. It also highlights the support vectors stored in the classifier after training."
      ],
      "metadata": {
        "id": "gWYAI61DDpjc"
      }
    },
    {
      "cell_type": "code",
      "source": [
        "# plot data\n",
        "plt.scatter(\n",
        "    X_train[:, 0],\n",
        "    X_train[:, 1],\n",
        "    c=y_train,\n",
        "    s=30,\n",
        "    cmap=plt.cm.Paired\n",
        ")\n",
        "\n",
        "# plot the decision function\n",
        "ax = plt.gca()\n",
        "DecisionBoundaryDisplay.from_estimator(\n",
        "    clf,\n",
        "    X_train,\n",
        "    plot_method=\"contour\",\n",
        "    colors=\"k\",\n",
        "    levels=[-1, 0, 1],\n",
        "    alpha=0.5,\n",
        "    linestyles=[\"--\", \"-\", \"--\"],\n",
        "    ax=ax,\n",
        ")\n",
        "\n",
        "# plot support vectors\n",
        "ax.scatter(\n",
        "    clf.support_vectors_[:, 0],\n",
        "    clf.support_vectors_[:, 1],\n",
        "    s=100,\n",
        "    linewidth=1,\n",
        "    facecolors=\"none\",\n",
        "    edgecolors=\"k\",\n",
        ")\n",
        "\n",
        "plt.show()"
      ],
      "metadata": {
        "id": "__XOMKwQDonZ"
      },
      "execution_count": null,
      "outputs": []
    },
    {
      "cell_type": "markdown",
      "source": [
        "Now, it is evident that this classification problem was straightforward, and our estimator performed exceptionally well."
      ],
      "metadata": {
        "id": "4M3I3NXqE4QO"
      }
    },
    {
      "cell_type": "markdown",
      "source": [
        "## Exercise 2\n",
        "\n",
        "Now, compare the classification results and the decision boundaries from estimators with **hard** and **soft margins**. Which parameter in SVC controls the margins' softeness? Consider what values can represent soft and hard margins."
      ],
      "metadata": {
        "id": "w7j9QfMwFDe5"
      }
    },
    {
      "cell_type": "code",
      "source": [
        "X_train, X_test, y_train, y_test = train_test_split(X, y, test_size=0.2, random_state=5)\n",
        "\n",
        "# your code here"
      ],
      "metadata": {
        "id": "l_sy5OWWB7ln"
      },
      "execution_count": null,
      "outputs": []
    },
    {
      "cell_type": "markdown",
      "source": [
        "## Exercise 3: Real data\n",
        "Now, take a look at the real-world data SVM."
      ],
      "metadata": {
        "id": "nlXPVk5WGSck"
      }
    },
    {
      "cell_type": "markdown",
      "metadata": {
        "id": "C40f350QVvNb"
      },
      "source": [
        "### Load dataset"
      ]
    },
    {
      "cell_type": "code",
      "execution_count": null,
      "metadata": {
        "id": "lEsePeoHLXCj"
      },
      "outputs": [],
      "source": [
        "df = pd.read_csv('data_neo-ffi_religion.csv')\n",
        "df['Orthodoxy'] = np.log(df[['Orthodoxy']].to_numpy())\n",
        "\n",
        "\n",
        "# add class indicator: either External Critique or Orthodoxy\n",
        "df['class'] = df[['External Critique', 'Orthodoxy']].idxmax(axis=1)\n",
        "df.head()"
      ]
    },
    {
      "cell_type": "markdown",
      "source": [
        "Inspect the dataset"
      ],
      "metadata": {
        "id": "2_s0HU7J6BRu"
      }
    },
    {
      "cell_type": "code",
      "execution_count": null,
      "metadata": {
        "id": "F_ado_rVXzyc"
      },
      "outputs": [],
      "source": [
        "df.describe()"
      ]
    },
    {
      "cell_type": "markdown",
      "source": [
        "### Model"
      ],
      "metadata": {
        "id": "Hy_V0n_1-Jfo"
      }
    },
    {
      "cell_type": "markdown",
      "source": [
        "Create simple SVM classification model: *class ~ Agreeableness + Openness* with linear kernel.\n",
        "\n",
        "1. Check the accuracy and other stats of the model\n",
        "2. Check the overfitting"
      ],
      "metadata": {
        "id": "1KNDWKxtA0QN"
      }
    },
    {
      "cell_type": "code",
      "source": [
        "# your code here"
      ],
      "metadata": {
        "id": "mEfNhN2HzB8F"
      },
      "execution_count": null,
      "outputs": []
    },
    {
      "cell_type": "markdown",
      "source": [
        "Plot the decision boundaries"
      ],
      "metadata": {
        "id": "UGnQ9e5eHqLW"
      }
    },
    {
      "cell_type": "code",
      "source": [
        "colors = ['red' if x == 'External Critique' else 'blue' for x in y_train]\n",
        "plt.scatter(\n",
        "    X_train[:, 0],\n",
        "    X_train[:, 1],\n",
        "    c=colors,\n",
        "    s=30,\n",
        "    cmap=plt.cm.Paired\n",
        ")\n",
        "\n",
        "# plot the decision function\n",
        "ax = plt.gca()\n",
        "DecisionBoundaryDisplay.from_estimator(\n",
        "    clf,\n",
        "    X_train,\n",
        "    plot_method=\"contour\",\n",
        "    colors=\"k\",\n",
        "    levels=[-1, 0, 1],\n",
        "    alpha=0.5,\n",
        "    linestyles=[\"--\", \"-\", \"--\"],\n",
        "    ax=ax,\n",
        ")\n",
        "# plot support vectors\n",
        "ax.scatter(\n",
        "    clf.support_vectors_[:, 0],\n",
        "    clf.support_vectors_[:, 1],\n",
        "    s=100,\n",
        "    linewidth=1,\n",
        "    facecolors=\"none\",\n",
        "    edgecolors=\"k\",\n",
        ")\n",
        "plt.show()"
      ],
      "metadata": {
        "id": "y5UL1w3GA7UD"
      },
      "execution_count": null,
      "outputs": []
    },
    {
      "cell_type": "markdown",
      "source": [
        "### (Exercise 3.1)\n",
        "\n",
        "Plot the relationship between accuracy on the training dataset, testing dataset, and the C."
      ],
      "metadata": {
        "id": "ea4IBA_vH51j"
      }
    },
    {
      "cell_type": "code",
      "source": [
        "# your code here"
      ],
      "metadata": {
        "id": "LlRAYTRxICrG"
      },
      "execution_count": null,
      "outputs": []
    },
    {
      "cell_type": "markdown",
      "source": [
        "### (Exercise 3.2)\n",
        "\n",
        "Some of the problems might stem from class imbalance. Think: how can we address this issue? Try to create model that account for the class imbalance."
      ],
      "metadata": {
        "id": "xGQedlTPIJeE"
      }
    },
    {
      "cell_type": "code",
      "source": [
        "# your code here"
      ],
      "metadata": {
        "id": "9WptoxIWIIxj"
      },
      "execution_count": null,
      "outputs": []
    }
  ],
  "metadata": {
    "colab": {
      "provenance": [],
      "toc_visible": true,
      "include_colab_link": true
    },
    "kernelspec": {
      "display_name": "Python 3",
      "name": "python3"
    },
    "language_info": {
      "name": "python"
    }
  },
  "nbformat": 4,
  "nbformat_minor": 0
}